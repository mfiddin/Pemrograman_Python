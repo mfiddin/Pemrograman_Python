{
  "nbformat": 4,
  "nbformat_minor": 0,
  "metadata": {
    "colab": {
      "name": "Tugas12MuhFaqihnaFiddin_1101208513.ipynb",
      "provenance": [],
      "authorship_tag": "ABX9TyNgEPPOK3SoGtO/0mp1pISx",
      "include_colab_link": true
    },
    "kernelspec": {
      "name": "python3",
      "display_name": "Python 3"
    }
  },
  "cells": [
    {
      "cell_type": "markdown",
      "metadata": {
        "id": "view-in-github",
        "colab_type": "text"
      },
      "source": [
        "<a href=\"https://colab.research.google.com/github/mfiddin/Pemrograman_Python/blob/main/Tugas12MuhFaqihnaFiddin_1101208513.ipynb\" target=\"_parent\"><img src=\"https://colab.research.google.com/assets/colab-badge.svg\" alt=\"Open In Colab\"/></a>"
      ]
    },
    {
      "cell_type": "code",
      "metadata": {
        "id": "HDceFfOu7S6U"
      },
      "source": [
        "import numpy as np\n"
      ],
      "execution_count": 1,
      "outputs": []
    },
    {
      "cell_type": "code",
      "metadata": {
        "id": "ZAW-9SSs7VjJ"
      },
      "source": [
        "NtL = lambda x: 10*np.log10(x)\n"
      ],
      "execution_count": 2,
      "outputs": []
    },
    {
      "cell_type": "code",
      "metadata": {
        "colab": {
          "base_uri": "https://localhost:8080/"
        },
        "id": "N6uO8ikQ7X2C",
        "outputId": "d76c1217-6814-4483-9abd-01bba7614984"
      },
      "source": [
        "z=NtL(1)\n",
        "print(z)"
      ],
      "execution_count": 3,
      "outputs": [
        {
          "output_type": "stream",
          "text": [
            "0.0\n"
          ],
          "name": "stdout"
        }
      ]
    },
    {
      "cell_type": "code",
      "metadata": {
        "id": "hXztpRSg7dXU"
      },
      "source": [
        "LtN = lambda x: 10**(x/10)"
      ],
      "execution_count": 4,
      "outputs": []
    },
    {
      "cell_type": "code",
      "metadata": {
        "colab": {
          "base_uri": "https://localhost:8080/"
        },
        "id": "ckeRnfTp7gE7",
        "outputId": "b60e2452-3967-40d9-a6a0-1ef19c6cc75d"
      },
      "source": [
        "y=LtN(0)\n",
        "print(y)"
      ],
      "execution_count": 5,
      "outputs": [
        {
          "output_type": "stream",
          "text": [
            "1.0\n"
          ],
          "name": "stdout"
        }
      ]
    },
    {
      "cell_type": "code",
      "metadata": {
        "colab": {
          "base_uri": "https://localhost:8080/"
        },
        "id": "b4tPTJQY7lRB",
        "outputId": "d2fc4a27-1a8c-4d12-bed7-b959d38a50a7"
      },
      "source": [
        "Lp = 46.3 + (33.9*np.log10(1800)) - (13.83*np.log10(60)) - ((((1.1*np.log10(1800))-0.7)*10) - ((1.56*np.log10(1800))-0.8)) + ((44.9-(6.55*np.log10(60)))*np.log10(2)) + 0\n",
        "print(Lp)"
      ],
      "execution_count": 6,
      "outputs": [
        {
          "output_type": "stream",
          "text": [
            "117.5423170334204\n"
          ],
          "name": "stdout"
        }
      ]
    },
    {
      "cell_type": "code",
      "metadata": {
        "colab": {
          "base_uri": "https://localhost:8080/"
        },
        "id": "CUdQ-FOm7n4l",
        "outputId": "d8171dde-40a8-4106-cc16-21a689c9c937"
      },
      "source": [
        "abc = 46.3 + (33.9*np.log10(1800)) - (13.83*np.log10(60))\n",
        "print(abc)\n"
      ],
      "execution_count": 7,
      "outputs": [
        {
          "output_type": "stream",
          "text": [
            "132.0619061301963\n"
          ],
          "name": "stdout"
        }
      ]
    },
    {
      "cell_type": "code",
      "metadata": {
        "colab": {
          "base_uri": "https://localhost:8080/"
        },
        "id": "pZtnHhBN7q_-",
        "outputId": "33227dca-f21b-4c80-d048-4f9d3ce7843b"
      },
      "source": [
        "ahr = ((((1.1*np.log10(1800))-0.7)*10) - ((1.56*np.log10(1800))-0.8))\n",
        "print(ahr)"
      ],
      "execution_count": 8,
      "outputs": [
        {
          "output_type": "stream",
          "text": [
            "24.529772448175216\n"
          ],
          "name": "stdout"
        }
      ]
    },
    {
      "cell_type": "code",
      "metadata": {
        "colab": {
          "base_uri": "https://localhost:8080/"
        },
        "id": "USVc-yC77un3",
        "outputId": "44fe4758-e0d8-456b-bc77-cacf54338a5e"
      },
      "source": [
        "ef = (44.9-(6.55*np.log10(60)))*np.log10(2)\n",
        "print(ef)"
      ],
      "execution_count": 9,
      "outputs": [
        {
          "output_type": "stream",
          "text": [
            "10.010183351399318\n"
          ],
          "name": "stdout"
        }
      ]
    },
    {
      "cell_type": "code",
      "metadata": {
        "id": "eqZPIwy87w4s"
      },
      "source": [
        "def ploss (d, f, cm, ht, hr):\n",
        "  pldb= 46.3 + (33.9*np.log10(f)) - (13.83*np.log10(ht)) - ((((1.1*np.log10(f)) - 0.7) * hr) - ((1.56*np.log10(f)) - 0.8)) + ((44.9 - (6.55*np.log10(ht)))*np.log10(d)) + cm\n",
        "  plnum=LtN(-pldb)\n",
        "  return pldb,plnum"
      ],
      "execution_count": 10,
      "outputs": []
    },
    {
      "cell_type": "code",
      "metadata": {
        "colab": {
          "base_uri": "https://localhost:8080/"
        },
        "id": "8_i_AvCd73Sy",
        "outputId": "6d5f7e83-6418-4944-8b45-3f49efa119e9"
      },
      "source": [
        "pathlossdb, pathlossnum = ploss(2, 1800, 0, 60, 10)\n",
        "print(\"pathloss dalam db =\",pathlossdb,\"dB\")\n",
        "print(\"pathloss dalam numerik =\",pathlossnum,\"kali\")"
      ],
      "execution_count": 11,
      "outputs": [
        {
          "output_type": "stream",
          "text": [
            "pathloss dalam db = 117.5423170334204 dB\n",
            "pathloss dalam numerik = 1.7610362535537868e-12 kali\n"
          ],
          "name": "stdout"
        }
      ]
    }
  ]
}